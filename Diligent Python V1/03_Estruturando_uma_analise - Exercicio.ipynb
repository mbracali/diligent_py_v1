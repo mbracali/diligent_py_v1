{
 "cells": [
  {
   "cell_type": "markdown",
   "id": "b5e3fb8f-e16d-41dc-9320-0c35fe7c4a88",
   "metadata": {
    "tags": []
   },
   "source": [
    "<h1> Desafio de analise de dados </h1>"
   ]
  },
  {
   "cell_type": "markdown",
   "id": "1662166c-3fc3-4d8a-9dd7-da2ebdaaffd6",
   "metadata": {},
   "source": [
    "Aqui temos nosso primeiro desafio de analise de dados baseado no mundo real. Tambem existe um gabarito com uma sugestao de resolucao.<br>\n",
    "Como uma sugestao de roteiro, e interessante que estruturemos nosso notebook nas seguinte etapas:\n",
    "1. Planejamento\n",
    "2. Acesso aos dados\n",
    "3. Integridade/consistencia\n",
    "4. Analise\n",
    "5. Apresentacao\n",
    "<br><br>\n",
    "\n",
    "O notebook tambem sugere algumas outras boas praticas de marcacao e documentacao ao longo da resolucao.<br>\n",
    "Use quantas celulas voce precisar, o importante e ter um resultado limpo e de facil entendimento por todos."
   ]
  },
  {
   "cell_type": "markdown",
   "id": "5ae1cb06-b81e-4101-a850-364748e26812",
   "metadata": {},
   "source": [
    "---"
   ]
  },
  {
   "cell_type": "markdown",
   "id": "42c520cd-7da1-47f5-af5e-f5755f55d28b",
   "metadata": {
    "tags": []
   },
   "source": [
    "<h2> Informacoes sobre o exercicio </h2>"
   ]
  },
  {
   "cell_type": "markdown",
   "id": "b2587009-4b9c-49c6-b72c-3d28acacfff8",
   "metadata": {},
   "source": [
    "Nosso time de auditoria recentemente recebeu uma demanda de analise de folha de pagamento sobre a empresa X. Nosso objetivo aqui e entender se a folha de pagamento da companhia esta de acordo e faz sentido com o que se propoe.<br>\n",
    "1. Nosso time de TI, nos informou que todos os arquivos que recebemos estao na pasta '.../Data' mas que eles nao foram validados;\n",
    "2. Existem 3 tabelas (departamento, funcionarios e folha), que consistem todo o universo de dados que possuimos para essa analise;\n",
    "3. Entendemos que seria muito interessante entender outras metricas relacionadas aos dados que temos, conseguimos trazer algum insight?\n",
    "4. Nosso time de TI, tambem nos informou que e esperado que o nosso resultado seja salvo na pasta '.../Resultados';\n",
    "5. A analise nesse notebook precisa ficar limpa e concisa para que qualquer um no futuro possa entender o que foi feito;"
   ]
  },
  {
   "cell_type": "markdown",
   "id": "394d0e6f-0f63-491e-96b7-06265c6eb126",
   "metadata": {
    "tags": []
   },
   "source": [
    "<h3> Quais suspeitas temos levantadas? </h3>"
   ]
  },
  {
   "cell_type": "markdown",
   "id": "275b4018-1165-49c2-ad89-e41552d131cb",
   "metadata": {},
   "source": [
    "Essa auditoria foi encomendada pelas seguintes suspeitas:\n",
    "* Existem funcionarios recebendo pagamentos dobrados (no mesmo mes, sendo pagos duas vezes);\n",
    "* Existem funcionarios que nao estao sendo pagos devidamente (pulando meses de pagamento);\n",
    "* Existem funcionarios sem valor registrado no pagamento;\n",
    "* Nao se sabe se as contas de salario bruto e salario liquido batem;"
   ]
  },
  {
   "cell_type": "markdown",
   "id": "9912d029-d74f-4919-bd47-d81f9433a474",
   "metadata": {
    "tags": []
   },
   "source": [
    "<h3> Sugestoes de insights</h3>"
   ]
  },
  {
   "cell_type": "markdown",
   "id": "e83a18e1-edb7-4db1-a5be-6c3f8063a4b0",
   "metadata": {
    "tags": []
   },
   "source": [
    "Insights interessantes que podemos encontrar:\n",
    "* Funcionarios que ganham muito acima ou abaixo da media;\n",
    "* Departamentos com salarios medios muito acima ou abaixo da media;\n",
    "* O gasto mensal da empresa com folha de pagamento;\n",
    "* Media de salario por cargo;\n",
    "* Existe algum departamento sem funcionarios? "
   ]
  },
  {
   "cell_type": "markdown",
   "id": "a189da81-d2a3-4514-87f4-7e2d90aa8a20",
   "metadata": {},
   "source": [
    "---"
   ]
  },
  {
   "cell_type": "markdown",
   "id": "53be5a8f-0eed-435d-9570-b8191e9c40e9",
   "metadata": {
    "tags": []
   },
   "source": [
    "<h2> Planejamento da analise </h2>"
   ]
  },
  {
   "cell_type": "markdown",
   "id": "cb40a069-21cf-4430-8f7c-ee4827629820",
   "metadata": {},
   "source": [
    "__Para realizarmos essa analise precisamos nos certificar que as tabelas existem e podem ser consumidas:__<br>\n",
    "-> Va ate a pasta Data e verifique se os arquivos que estao la, podem ser usados e estao em formatos que voce conhece.<br>\n",
    "\n",
    "__E importante verificar se a tabela resultados existe:__<br>\n",
    "-> Veja se voce ja tem uma pasta chamada Resultados, se nao, crie uma.<br>\n",
    "\n",
    "__Tambem e importante logar quando, por quem e onde esse trabalho esta sendo realizado:__<br>\n",
    "-> Nao esqueca de documentar essas informacoes no notebook, elas vao ser muito importante para o futuro.<br>\n",
    "\n",
    "__Defina o objetivo final da sua analise de forma clara e concisa:__<br>\n",
    "-> O que voce quer resolver? Nao deixe de escrever e documentar nesse notebook"
   ]
  },
  {
   "cell_type": "markdown",
   "id": "48a24981-93c1-49dc-bacd-6fd7a85aa272",
   "metadata": {
    "tags": []
   },
   "source": [
    "<h3> (Sugestao) Cabecalho da analise </h3>"
   ]
  },
  {
   "cell_type": "markdown",
   "id": "d94fd529-b9df-4f87-908f-45c4c56d7838",
   "metadata": {},
   "source": [
    "< Descricao rapida sobre o objetivo dessa analise >"
   ]
  },
  {
   "cell_type": "markdown",
   "id": "6272000a-89e2-4dab-a160-f46ddaa7fb31",
   "metadata": {},
   "source": [
    "< Descreva qualquer dado que o leitor dessa analise precisa saber caso queira reproduzier qualquer analise aqui > \n",
    "* Os dados aqui importados vem do banco X;\n",
    "* Os resultados serao salvos em Y;\n",
    "* Outros....;"
   ]
  },
  {
   "cell_type": "markdown",
   "id": "21256554-92f0-4c42-bfe8-4b63baf82b70",
   "metadata": {},
   "source": [
    "< Documente as configuracoes da maquina que voce usou para realizar essa analise >\n",
    "* Anaconda com Python;\n",
    "* Jupyter lab no navegador Chrome;\n",
    "* Computador usado;\n",
    "    * RAM: X RAM;\n",
    "    * Processador: INTEL Y;\n",
    "    * Video: VIDEO ONBOARD;\n",
    "    * HD/SSD: Z\n",
    "    * SO: WINDOWS 11"
   ]
  },
  {
   "cell_type": "markdown",
   "id": "f51dfd98-b986-4310-b3c3-61b36360b2be",
   "metadata": {},
   "source": [
    "< Vamos utilizar alguma biblioteca? O que acha de concentrarmos o import delas em uma mesma celula >"
   ]
  },
  {
   "cell_type": "code",
   "execution_count": 2,
   "id": "b4beaf33-07a7-4ce0-bf55-998e18dbed14",
   "metadata": {},
   "outputs": [],
   "source": [
    "import pandas as pd # Utilizado para importar tabelas\n",
    "import numpy as np # Utilizado para trabalhar com numeros muito grandes\n",
    "#..."
   ]
  },
  {
   "cell_type": "code",
   "execution_count": 5,
   "id": "22a0863e-3103-4cf0-9fa5-ba017ac1465e",
   "metadata": {},
   "outputs": [],
   "source": [
    "# Adicione qualquer outra informacao que voce ache relevante"
   ]
  },
  {
   "cell_type": "code",
   "execution_count": null,
   "id": "d3431ca3-844c-4870-8760-0de400a67682",
   "metadata": {},
   "outputs": [],
   "source": []
  },
  {
   "cell_type": "code",
   "execution_count": null,
   "id": "b99e2a45-1588-4e98-a5ac-d3d84fb50917",
   "metadata": {},
   "outputs": [],
   "source": []
  },
  {
   "cell_type": "code",
   "execution_count": null,
   "id": "050679f3-63db-4785-af0e-9926cc3c1b00",
   "metadata": {},
   "outputs": [],
   "source": []
  },
  {
   "cell_type": "markdown",
   "id": "6e7b4fd3-38e4-46b2-af3c-d596c53d7368",
   "metadata": {},
   "source": [
    "---"
   ]
  },
  {
   "cell_type": "markdown",
   "id": "49c92552-d638-4242-833d-8fe7a1b1fb60",
   "metadata": {
    "tags": []
   },
   "source": [
    "<h2> Acesso aos dados relevantes </h2>"
   ]
  },
  {
   "cell_type": "code",
   "execution_count": null,
   "id": "7b3738a1-928f-4a0f-bed2-e203f757dd9c",
   "metadata": {},
   "outputs": [],
   "source": []
  },
  {
   "cell_type": "code",
   "execution_count": null,
   "id": "b718aec5-f2ae-4583-abd9-e2e31c0ef185",
   "metadata": {},
   "outputs": [],
   "source": []
  },
  {
   "cell_type": "code",
   "execution_count": null,
   "id": "7685c2a4-ef85-4890-9037-fef7fb981ba1",
   "metadata": {},
   "outputs": [],
   "source": []
  },
  {
   "cell_type": "code",
   "execution_count": 3,
   "id": "53386c73-788b-4ff6-a633-f56408d02a9d",
   "metadata": {},
   "outputs": [],
   "source": [
    "# Crie mais celulas caso seja necessario..."
   ]
  },
  {
   "cell_type": "markdown",
   "id": "9f6452df-1ee0-4acf-920d-6fa9ffaa3bbc",
   "metadata": {},
   "source": [
    "---"
   ]
  },
  {
   "cell_type": "markdown",
   "id": "3c0f1a54-6a7e-4335-89e6-f03c1f58c353",
   "metadata": {},
   "source": [
    "<h2> Verificacao de integridade e consistencia"
   ]
  },
  {
   "cell_type": "code",
   "execution_count": null,
   "id": "4e788901-8e29-4d15-a042-53615ac2aa15",
   "metadata": {},
   "outputs": [],
   "source": []
  },
  {
   "cell_type": "code",
   "execution_count": null,
   "id": "bc2696a8-80fb-417f-b10f-0a83d9f69e27",
   "metadata": {},
   "outputs": [],
   "source": []
  },
  {
   "cell_type": "code",
   "execution_count": null,
   "id": "cf5e2ea5-27ab-4680-9fd1-183872387181",
   "metadata": {},
   "outputs": [],
   "source": []
  },
  {
   "cell_type": "code",
   "execution_count": null,
   "id": "6a53f1a7-ad0b-43b8-a6c8-d5d089e7a0e3",
   "metadata": {},
   "outputs": [],
   "source": [
    "# Crie mais celulas caso seja necessario..."
   ]
  },
  {
   "cell_type": "markdown",
   "id": "10ee4c88-6563-46c1-b8d9-e8bf0abfc9b9",
   "metadata": {
    "tags": []
   },
   "source": [
    "<h2> Analisando os dados </h2>"
   ]
  },
  {
   "cell_type": "code",
   "execution_count": null,
   "id": "53112bd8-8294-4b24-9e84-0c7ee3ef01e1",
   "metadata": {},
   "outputs": [],
   "source": []
  },
  {
   "cell_type": "code",
   "execution_count": null,
   "id": "823c820f-b2d9-4d2d-a4d9-6273869771fb",
   "metadata": {},
   "outputs": [],
   "source": []
  },
  {
   "cell_type": "code",
   "execution_count": null,
   "id": "dbfa9e36-a50d-4547-bd99-c7ad3428c747",
   "metadata": {},
   "outputs": [],
   "source": []
  },
  {
   "cell_type": "code",
   "execution_count": 4,
   "id": "9ccc2380-a799-4bd6-9b1a-cdb313c3764b",
   "metadata": {},
   "outputs": [],
   "source": [
    "# Crie mais celulas caso seja necessario..."
   ]
  },
  {
   "cell_type": "markdown",
   "id": "53f691af-eb87-4737-b447-bcc99e0d57f3",
   "metadata": {
    "tags": []
   },
   "source": [
    "<h2> Apresentacao </h2>"
   ]
  },
  {
   "cell_type": "code",
   "execution_count": 6,
   "id": "21ce4161-5ed3-4dc3-9097-97d5a3526ef5",
   "metadata": {},
   "outputs": [],
   "source": [
    "# Nao se esqueca de salvar arquivos evidencia...\n",
    "# Nao se esqueca de deixar claro quem confeccionou a analise e o periodo em que ela foi feita..."
   ]
  },
  {
   "cell_type": "code",
   "execution_count": null,
   "id": "213bb69d-6da5-4f2b-96b8-d399a345dc14",
   "metadata": {},
   "outputs": [],
   "source": []
  },
  {
   "cell_type": "code",
   "execution_count": null,
   "id": "74a7eb98-2289-4eb7-8293-c5fda825a118",
   "metadata": {},
   "outputs": [],
   "source": []
  },
  {
   "cell_type": "code",
   "execution_count": null,
   "id": "bd50f0eb-553e-44ea-8afa-4870a5fb3d22",
   "metadata": {},
   "outputs": [],
   "source": [
    "# Crie mais celulas caso seja necessario..."
   ]
  }
 ],
 "metadata": {
  "kernelspec": {
   "display_name": "Python 3 (ipykernel)",
   "language": "python",
   "name": "python3"
  },
  "language_info": {
   "codemirror_mode": {
    "name": "ipython",
    "version": 3
   },
   "file_extension": ".py",
   "mimetype": "text/x-python",
   "name": "python",
   "nbconvert_exporter": "python",
   "pygments_lexer": "ipython3",
   "version": "3.10.7"
  }
 },
 "nbformat": 4,
 "nbformat_minor": 5
}
