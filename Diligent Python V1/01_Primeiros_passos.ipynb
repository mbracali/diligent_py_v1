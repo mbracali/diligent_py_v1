{
 "cells": [
  {
   "cell_type": "markdown",
   "id": "bbcf0d33-f2e8-4f89-97fd-1ebffc646cc6",
   "metadata": {
    "tags": []
   },
   "source": [
    "<h1> Meus primeiros passos com Python!</h1>"
   ]
  },
  {
   "cell_type": "markdown",
   "id": "2a16ab65-6f28-4317-be33-7ca9f91d7dbd",
   "metadata": {},
   "source": [
    "Esse notebook tem o intuito de me fazer aprender os primeiros conceitos do python.<br>Vamos começar com variáveis e vamos até objetos."
   ]
  },
  {
   "cell_type": "code",
   "execution_count": 1,
   "id": "c775995e-cc7c-4e65-b043-9de5b4d34aab",
   "metadata": {},
   "outputs": [],
   "source": [
    "# Minha lista de variaveis\n",
    "variavel_01 = \"Python Diligent\"         # Essa foi a minha primeira variavel em Python\n",
    "variavel_02 = \"Python Rocks!\"           # Mais uma variavel em texto uma STRING\n",
    "variavel_03 = 21                        # A primeira vez que trabalho com numeros\n",
    "variavel_04 = variavel_03 * 2           # Fazendo operacoes aritimeticas\n",
    "variavel_05= variavel_01 + variavel_02  # Fazendo operacoes aritimeticas com textos"
   ]
  },
  {
   "cell_type": "code",
   "execution_count": 2,
   "id": "28b096ac-56c3-4008-95f7-5e8f459262dd",
   "metadata": {},
   "outputs": [
    {
     "name": "stdout",
     "output_type": "stream",
     "text": [
      "Python Diligent\n",
      "Python Rocks!\n",
      "21\n",
      "42\n",
      "Python DiligentPython Rocks!\n"
     ]
    }
   ],
   "source": [
    "# Agora verificando os valores que foram armazenados em cada variavel\n",
    "print(variavel_01)\n",
    "print(variavel_02)\n",
    "print(variavel_03)\n",
    "print(variavel_04)\n",
    "print(variavel_05)"
   ]
  },
  {
   "cell_type": "code",
   "execution_count": 3,
   "id": "501d6b4c-b8d9-4d94-a185-b916ac5fd60b",
   "metadata": {},
   "outputs": [
    {
     "name": "stdout",
     "output_type": "stream",
     "text": [
      "Python Diligent Python Rocks! 21 42 Python DiligentPython Rocks!\n"
     ]
    }
   ],
   "source": [
    "# Um print exemplo de como exibir variaveis em linha\n",
    "print(variavel_01, variavel_02, variavel_03, variavel_04, variavel_05)"
   ]
  },
  {
   "cell_type": "code",
   "execution_count": 4,
   "id": "5b262201-ea79-4142-ad44-ae1250fb74bf",
   "metadata": {},
   "outputs": [
    {
     "name": "stdout",
     "output_type": "stream",
     "text": [
      "A minha primeira variavel foi:  Python Diligent \n",
      "Só para testar armazenei outra frase:  Python Rocks! \n",
      "Armazenei um numero:  21 \n",
      "Multipliquei ele por 2:  42 \n",
      "E depois fiz operações matematicas com textos:  Python DiligentPython Rocks!\n"
     ]
    }
   ],
   "source": [
    "# Agora um exemplo de print com mais variaveis escritas\n",
    "print(\"A minha primeira variavel foi: \", variavel_01,\n",
    "      \"\\nSó para testar armazenei outra frase: \", variavel_02,\n",
    "      \"\\nArmazenei um numero: \", variavel_03,\n",
    "      \"\\nMultipliquei ele por 2: \", variavel_04,\n",
    "      \"\\nE depois fiz operações matematicas com textos: \", variavel_05)"
   ]
  },
  {
   "cell_type": "markdown",
   "id": "e90d73f7-73dc-41d1-aff5-8c087f67b2f8",
   "metadata": {},
   "source": [
    "---"
   ]
  },
  {
   "cell_type": "markdown",
   "id": "a81fd5c0-ceb5-4cc4-a026-62b97edb544b",
   "metadata": {
    "tags": []
   },
   "source": [
    "<h1> Laços e operadores lógicos </h1>\n",
    "Vamos documentar como trabalhar com estruturas de repetição"
   ]
  },
  {
   "cell_type": "markdown",
   "id": "8499f7db-087c-4c77-9ca5-7a4354727c30",
   "metadata": {},
   "source": [
    "<h4> Testando o IF"
   ]
  },
  {
   "cell_type": "code",
   "execution_count": 5,
   "id": "21209bca-9150-413d-bab9-cee904ddf74b",
   "metadata": {},
   "outputs": [],
   "source": [
    "# Declarando variaveis\n",
    "var_1 = 2\n",
    "var_2 = 5"
   ]
  },
  {
   "cell_type": "code",
   "execution_count": 6,
   "id": "4aab8653-288c-4585-8f3d-0fa9d5f1fbb1",
   "metadata": {},
   "outputs": [
    {
     "name": "stdout",
     "output_type": "stream",
     "text": [
      "var_2 é maior que var_1\n"
     ]
    }
   ],
   "source": [
    "# Teste simples de condicao\n",
    "if var_1 > var_2:\n",
    "    print(\"var_1 é maior que var_2\")\n",
    "else:\n",
    "    print(\"var_2 é maior que var_1\")"
   ]
  },
  {
   "cell_type": "markdown",
   "id": "9948ab46-95d8-4376-9a34-7af5d6c7cd45",
   "metadata": {},
   "source": [
    "<h4> Testando o FOR"
   ]
  },
  {
   "cell_type": "code",
   "execution_count": 7,
   "id": "b8b37054-ed10-44e0-920a-7130ffaf422a",
   "metadata": {},
   "outputs": [],
   "source": [
    "# Declarando variavel para o for\n",
    "fim = 5"
   ]
  },
  {
   "cell_type": "code",
   "execution_count": 8,
   "id": "529c3809-6e72-4889-97a9-fe3d101174dc",
   "metadata": {},
   "outputs": [
    {
     "name": "stdout",
     "output_type": "stream",
     "text": [
      "0\n",
      "1\n",
      "2\n",
      "3\n",
      "4\n"
     ]
    }
   ],
   "source": [
    "# Utilizando um for para contar ate o tamanho da minha variavel\n",
    "for i in range(fim):\n",
    "    print(i)"
   ]
  },
  {
   "cell_type": "code",
   "execution_count": 9,
   "id": "39946eb1-8370-484d-9794-10a884fa15be",
   "metadata": {},
   "outputs": [
    {
     "name": "stdout",
     "output_type": "stream",
     "text": [
      "Estou executando o for, e o i vale:  0\n",
      "Estou executando o for, e o i vale:  1\n",
      "Estou executando o for, e o i vale:  2\n",
      "Estou executando o for, e o i vale:  3\n",
      "Estou executando o for, e o i vale:  4\n"
     ]
    }
   ],
   "source": [
    "# Fazendo um for um pouco mais complexo\n",
    "for i in range(fim):\n",
    "    print(\"Estou executando o for, e o i vale: \", i)"
   ]
  },
  {
   "cell_type": "markdown",
   "id": "57cfd040-7532-4861-af58-84c5cbe5ed38",
   "metadata": {},
   "source": [
    "<h4> Testando o WHILE"
   ]
  },
  {
   "cell_type": "code",
   "execution_count": 10,
   "id": "99bb2516-621d-4ad8-9d34-5a2952feb7c0",
   "metadata": {},
   "outputs": [],
   "source": [
    "# Declarando variaveis para o while\n",
    "ini = 0\n",
    "fim = 5"
   ]
  },
  {
   "cell_type": "code",
   "execution_count": 11,
   "id": "c819f5b3-22dd-4c8e-8800-b582a5fc6435",
   "metadata": {},
   "outputs": [
    {
     "name": "stdout",
     "output_type": "stream",
     "text": [
      "0\n",
      "1\n",
      "2\n",
      "3\n",
      "4\n"
     ]
    }
   ],
   "source": [
    "while ini < fim:\n",
    "    print(ini)\n",
    "    ini = ini + 1"
   ]
  },
  {
   "cell_type": "markdown",
   "id": "695efbf0-74ca-4c97-b4b0-323ea76b67ce",
   "metadata": {},
   "source": [
    "---"
   ]
  },
  {
   "cell_type": "markdown",
   "id": "d4aca155-973d-4573-8cc1-7cf844f64702",
   "metadata": {
    "tags": []
   },
   "source": [
    "<h1> Trabalhando com funções </h1>\n",
    "Nessa parte do notebook vamos criar funções dentro do python e entender suas funcionalidades"
   ]
  },
  {
   "cell_type": "code",
   "execution_count": 12,
   "id": "d4ce1c98-bcb0-4636-a882-db0c722cd081",
   "metadata": {},
   "outputs": [],
   "source": [
    "# Minha primeira função\n",
    "def somando2(variavel_A, variavel_B):\n",
    "    print(\"O valor do seu calculo é: \", variavel_A + variavel_B)"
   ]
  },
  {
   "cell_type": "code",
   "execution_count": 13,
   "id": "bba19bda-5e05-46fb-ad79-3df4509e2e1d",
   "metadata": {},
   "outputs": [
    {
     "name": "stdout",
     "output_type": "stream",
     "text": [
      "O valor do seu calculo é:  3\n"
     ]
    }
   ],
   "source": [
    "# Uma vez que a funcao tenha sido declarada, basta apenas 'chama-la'\n",
    "somando2(1, 2)"
   ]
  },
  {
   "cell_type": "code",
   "execution_count": 14,
   "id": "4ec5113e-599f-44e0-b89a-f6992f2b58c8",
   "metadata": {},
   "outputs": [],
   "source": [
    "# Testando uma funcao com lacos de repeticao\n",
    "def contando_ate(inicio, fim):\n",
    "    while inicio <= fim:\n",
    "        print(inicio)\n",
    "        inicio = inicio + 1"
   ]
  },
  {
   "cell_type": "code",
   "execution_count": 15,
   "id": "f51e7f3c-58cd-4369-9c9e-ec9549debd08",
   "metadata": {},
   "outputs": [
    {
     "name": "stdout",
     "output_type": "stream",
     "text": [
      "1\n",
      "2\n",
      "3\n"
     ]
    }
   ],
   "source": [
    "# Agora que a funcao foi declarada, podemos executar\n",
    "contando_ate(1, 3)"
   ]
  },
  {
   "cell_type": "code",
   "execution_count": 16,
   "id": "65f60157-2252-4c84-985b-87c54e71695a",
   "metadata": {},
   "outputs": [],
   "source": [
    "# Tambem podemos ter funcoes que retornam valores para variaveis\n",
    "def variavel_somando2(variavel_A, variavel_B):\n",
    "    return variavel_A + variavel_B"
   ]
  },
  {
   "cell_type": "code",
   "execution_count": 17,
   "id": "238b8e43-fa2b-4c85-a683-cbc6c1209933",
   "metadata": {},
   "outputs": [
    {
     "name": "stdout",
     "output_type": "stream",
     "text": [
      "3\n"
     ]
    }
   ],
   "source": [
    "# Veja como funciona\n",
    "resultado = variavel_somando2(1, 2)\n",
    "print(resultado)"
   ]
  },
  {
   "cell_type": "code",
   "execution_count": 18,
   "id": "a1e2e70a-b136-42a3-a392-e203ca1253b2",
   "metadata": {},
   "outputs": [
    {
     "name": "stdout",
     "output_type": "stream",
     "text": [
      "1\n",
      "2\n",
      "3\n"
     ]
    }
   ],
   "source": [
    "# E podemos encadiar funcoes, uma vez que elas retornem variaveis\n",
    "# Primeiro armazenamos o resultado de uma funcao\n",
    "resultado = variavel_somando2(1, 2)\n",
    "\n",
    "# Agora utilizamos a variavel que calculamos como parametro de parada\n",
    "# de outra funcao que ja haviamos criado\n",
    "contando_ate(1, resultado)"
   ]
  },
  {
   "cell_type": "code",
   "execution_count": 19,
   "id": "7a5f6bab-56c1-4b80-80af-c90bee85774b",
   "metadata": {},
   "outputs": [],
   "source": [
    "# Como gabarito do desafio proposto aqui esta a funcao que:\n",
    "# 1. Faz uma contagem de X a Y\n",
    "# 2. Sempre que o numero for par, exibe na tela\n",
    "# 3. Sempre que o numero for impar mostra um traco\n",
    "# 4. Retorna para uma variavel True se o ultimo numero for par, se o ultimo for impar retorna False"
   ]
  },
  {
   "cell_type": "code",
   "execution_count": 20,
   "id": "911b29d3-7f74-40a7-b054-f14c6f2e9e39",
   "metadata": {},
   "outputs": [],
   "source": [
    "# -------"
   ]
  },
  {
   "cell_type": "code",
   "execution_count": 23,
   "id": "ab629977-6fff-4922-9830-9f5c1457f020",
   "metadata": {},
   "outputs": [],
   "source": [
    "# Declarando a funcao para que ela passe a existir\n",
    "def funcao_desafio(ini, fim):\n",
    "    \n",
    "    # Testamos para rodar o laco de repeticao\n",
    "    while ini <= fim:\n",
    "        \n",
    "        # Se o numero for par avisamos:\n",
    "        if ini%2 == 0:\n",
    "            print(ini)\n",
    "            \n",
    "        else:\n",
    "            print('-')\n",
    "        \n",
    "        # Nao podemos esquecer de incrementar a variavel para sair do loop\n",
    "        ini = ini + 1\n",
    "    \n",
    "    # Depois que terminarmos de rodar o laco de\n",
    "    # repeticao, testamos se o numero final e\n",
    "    # par para retornar True ou False\n",
    "    if (ini-1)%2 == 0:\n",
    "            return True\n",
    "        \n",
    "    else:\n",
    "            return False\n",
    "    # Aqui diminuimos 1 da variavel inicial pois ele vale um a mais do que\n",
    "    # queremos, durante a etapa de incremento ele acaba valendo 1 a mais do\n",
    "    # que a variavel fim\n",
    "    \n",
    "    \n",
    "# Aqui introduzimos dois novos conceitos:\n",
    "# 1. O operador % que retorna o resto de uma divisao\n",
    "# 2. True e False, sao os dois unicos valores que uma variavel Boolean pode assumir"
   ]
  },
  {
   "cell_type": "code",
   "execution_count": 22,
   "id": "c775e8d3-dee0-4aaf-bcd6-8aad4c1914ae",
   "metadata": {},
   "outputs": [
    {
     "name": "stdout",
     "output_type": "stream",
     "text": [
      "-\n",
      "2\n",
      "-\n",
      "4\n",
      "-\n",
      "6\n",
      "-\n",
      "8\n",
      "-\n",
      "10\n"
     ]
    },
    {
     "data": {
      "text/plain": [
       "True"
      ]
     },
     "execution_count": 22,
     "metadata": {},
     "output_type": "execute_result"
    }
   ],
   "source": [
    "# Testando a funcao desafio:\n",
    "funcao_desafio(1, 10)"
   ]
  },
  {
   "cell_type": "markdown",
   "id": "32e794f8-65b1-4265-ad32-c04b6e826d7c",
   "metadata": {},
   "source": [
    "---"
   ]
  }
 ],
 "metadata": {
  "kernelspec": {
   "display_name": "Python 3 (ipykernel)",
   "language": "python",
   "name": "python3"
  },
  "language_info": {
   "codemirror_mode": {
    "name": "ipython",
    "version": 3
   },
   "file_extension": ".py",
   "mimetype": "text/x-python",
   "name": "python",
   "nbconvert_exporter": "python",
   "pygments_lexer": "ipython3",
   "version": "3.10.6"
  }
 },
 "nbformat": 4,
 "nbformat_minor": 5
}
