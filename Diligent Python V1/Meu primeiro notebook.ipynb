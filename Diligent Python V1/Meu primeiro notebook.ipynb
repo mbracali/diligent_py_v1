{
 "cells": [
  {
   "cell_type": "code",
   "execution_count": 1,
   "id": "c96af85a-16a4-4a04-9bfb-bcd162520a2e",
   "metadata": {},
   "outputs": [
    {
     "name": "stdout",
     "output_type": "stream",
     "text": [
      "Marcelo\n"
     ]
    }
   ],
   "source": [
    "print(\"Marcelo\")"
   ]
  },
  {
   "cell_type": "code",
   "execution_count": 2,
   "id": "def89eb1-e774-4121-ac20-09395460aea3",
   "metadata": {},
   "outputs": [
    {
     "name": "stdout",
     "output_type": "stream",
     "text": [
      "Marcelo\n",
      "Anderson\n",
      "Fabiana\n",
      "Carlos\n",
      "Mariana\n"
     ]
    }
   ],
   "source": [
    "print(\"Marcelo\")\n",
    "print(\"Anderson\")\n",
    "print(\"Fabiana\")\n",
    "print(\"Carlos\")\n",
    "print(\"Mariana\")"
   ]
  },
  {
   "cell_type": "code",
   "execution_count": 3,
   "id": "40833c05-1e42-433f-a447-09f1b4a074e4",
   "metadata": {},
   "outputs": [
    {
     "name": "stdout",
     "output_type": "stream",
     "text": [
      "Python rocks!\n"
     ]
    }
   ],
   "source": [
    "print(\"Python rocks!\")"
   ]
  },
  {
   "cell_type": "markdown",
   "id": "10a291a6-2493-48ad-9c2b-ae18f25aa6cb",
   "metadata": {},
   "source": [
    "<h1> Meu primeiro titulo em markdown"
   ]
  },
  {
   "cell_type": "markdown",
   "id": "8155732b-8cf8-4996-b66a-6f9e98597247",
   "metadata": {},
   "source": [
    "<h2> Agora tentando fazer sozinho"
   ]
  },
  {
   "cell_type": "code",
   "execution_count": 4,
   "id": "bc1c1977-f68f-4025-a7b6-a9e6282b866a",
   "metadata": {},
   "outputs": [
    {
     "name": "stdout",
     "output_type": "stream",
     "text": [
      "the quick brown fox jumps...\n"
     ]
    }
   ],
   "source": [
    "print(\"the quick brown fox jumps...\")"
   ]
  },
  {
   "cell_type": "code",
   "execution_count": 5,
   "id": "f9ab1d7d-ecee-4d41-a43c-b1411cf5bbf5",
   "metadata": {},
   "outputs": [
    {
     "name": "stdout",
     "output_type": "stream",
     "text": [
      "...over the lazy dog\n"
     ]
    }
   ],
   "source": [
    "print(\"...over the lazy dog\")"
   ]
  },
  {
   "cell_type": "code",
   "execution_count": null,
   "id": "e7a4bbf1-7ae3-458d-a08b-4c1446d75be6",
   "metadata": {},
   "outputs": [],
   "source": []
  },
  {
   "cell_type": "code",
   "execution_count": null,
   "id": "16e3c5b1-7ca7-4af9-a143-bc1f4b422330",
   "metadata": {},
   "outputs": [],
   "source": []
  },
  {
   "cell_type": "code",
   "execution_count": null,
   "id": "47b01d16-ebec-4b0d-a184-a97ab1445d21",
   "metadata": {},
   "outputs": [],
   "source": []
  },
  {
   "cell_type": "code",
   "execution_count": 2,
   "id": "7848f99a-4ae0-4083-97ed-c935dfb35744",
   "metadata": {},
   "outputs": [
    {
     "ename": "AttributeError",
     "evalue": "module 'numpy' has no attribute 'digit'",
     "output_type": "error",
     "traceback": [
      "\u001b[1;31m---------------------------------------------------------------------------\u001b[0m",
      "\u001b[1;31mAttributeError\u001b[0m                            Traceback (most recent call last)",
      "Input \u001b[1;32mIn [2]\u001b[0m, in \u001b[0;36m<cell line: 3>\u001b[1;34m()\u001b[0m\n\u001b[0;32m      1\u001b[0m \u001b[38;5;28;01mimport\u001b[39;00m \u001b[38;5;21;01mnumpy\u001b[39;00m \u001b[38;5;28;01mas\u001b[39;00m \u001b[38;5;21;01mnp\u001b[39;00m\n\u001b[1;32m----> 3\u001b[0m teste \u001b[38;5;241m=\u001b[39m \u001b[43mnp\u001b[49m\u001b[38;5;241;43m.\u001b[39;49m\u001b[43mdigit\u001b[49m(\u001b[38;5;241m2\u001b[39m)\n",
      "File \u001b[1;32mX:\\Dev\\python310\\lib\\site-packages\\numpy\\__init__.py:311\u001b[0m, in \u001b[0;36m__getattr__\u001b[1;34m(attr)\u001b[0m\n\u001b[0;32m    308\u001b[0m     \u001b[38;5;28;01mfrom\u001b[39;00m \u001b[38;5;21;01m.\u001b[39;00m\u001b[38;5;21;01mtesting\u001b[39;00m \u001b[38;5;28;01mimport\u001b[39;00m Tester\n\u001b[0;32m    309\u001b[0m     \u001b[38;5;28;01mreturn\u001b[39;00m Tester\n\u001b[1;32m--> 311\u001b[0m \u001b[38;5;28;01mraise\u001b[39;00m \u001b[38;5;167;01mAttributeError\u001b[39;00m(\u001b[38;5;124m\"\u001b[39m\u001b[38;5;124mmodule \u001b[39m\u001b[38;5;132;01m{!r}\u001b[39;00m\u001b[38;5;124m has no attribute \u001b[39m\u001b[38;5;124m\"\u001b[39m\n\u001b[0;32m    312\u001b[0m                      \u001b[38;5;124m\"\u001b[39m\u001b[38;5;132;01m{!r}\u001b[39;00m\u001b[38;5;124m\"\u001b[39m\u001b[38;5;241m.\u001b[39mformat(\u001b[38;5;18m__name__\u001b[39m, attr))\n",
      "\u001b[1;31mAttributeError\u001b[0m: module 'numpy' has no attribute 'digit'"
     ]
    }
   ],
   "source": [
    "import numpy as np\n",
    "\n",
    "teste = np.digit(2)"
   ]
  },
  {
   "cell_type": "code",
   "execution_count": null,
   "id": "f86e270e-3326-4913-9743-12254543c4a2",
   "metadata": {},
   "outputs": [],
   "source": []
  },
  {
   "cell_type": "code",
   "execution_count": null,
   "id": "56671604-8c02-4a73-936e-d1d9995da871",
   "metadata": {},
   "outputs": [],
   "source": []
  }
 ],
 "metadata": {
  "kernelspec": {
   "display_name": "Python 3 (ipykernel)",
   "language": "python",
   "name": "python3"
  },
  "language_info": {
   "codemirror_mode": {
    "name": "ipython",
    "version": 3
   },
   "file_extension": ".py",
   "mimetype": "text/x-python",
   "name": "python",
   "nbconvert_exporter": "python",
   "pygments_lexer": "ipython3",
   "version": "3.10.6"
  }
 },
 "nbformat": 4,
 "nbformat_minor": 5
}
